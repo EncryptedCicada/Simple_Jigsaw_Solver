{
 "cells": [
  {
   "cell_type": "code",
   "execution_count": 1,
   "id": "1de354d0",
   "metadata": {},
   "outputs": [],
   "source": [
    "import cv2 as cv\n",
    "import numpy as np\n",
    "import matplotlib.pyplot as plt\n",
    "import math, random"
   ]
  },
  {
   "cell_type": "code",
   "execution_count": 2,
   "id": "74708774",
   "metadata": {},
   "outputs": [],
   "source": [
    "def rescaleFrame(frame, scale=0.75):\n",
    "    width = int(frame.shape[1] * scale)\n",
    "    height = int(frame.shape[0] * scale)\n",
    "\n",
    "    dimensions = (width,height)\n",
    "\n",
    "    return cv.resize(frame, dimensions, interpolation=cv.INTER_AREA)"
   ]
  },
  {
   "cell_type": "code",
   "execution_count": 3,
   "id": "5327e347",
   "metadata": {},
   "outputs": [],
   "source": [
    "img = cv.imread(\"./unsplash.jpg\", 0)\n",
    "h, w = img.shape\n",
    "\n",
    "factor = 0\n",
    "\n",
    "if h >= 1920 or h >= 1080 or w >= 1920 or w >= 1080:\n",
    "    factor = (max(h, w) // 1920)\n",
    "    factor /= (10 * len(str(factor)))\n",
    "    \n",
    "img = rescaleFrame(img, factor)"
   ]
  },
  {
   "cell_type": "code",
   "execution_count": 4,
   "id": "4fcbeb55",
   "metadata": {},
   "outputs": [],
   "source": [
    "cv.imshow(\"Unsplash Original\", img)\n",
    "cv.waitKey(0)\n",
    "cv.destroyAllWindows()"
   ]
  },
  {
   "cell_type": "code",
   "execution_count": 5,
   "id": "a3bae2cc",
   "metadata": {},
   "outputs": [],
   "source": [
    "h, w = img.shape\n",
    "for i in range (h):\n",
    "    for j in range(w):\n",
    "        if img[i][j] > 127:\n",
    "            img[i][j] = 255\n",
    "        else:\n",
    "            img[i][j] = 0\n",
    "            \n",
    "cv.imshow(\"Unsplash Thresholded\", img)\n",
    "cv.waitKey(0)\n",
    "cv.destroyAllWindows()"
   ]
  },
  {
   "cell_type": "code",
   "execution_count": 6,
   "id": "3a0ceb89",
   "metadata": {},
   "outputs": [],
   "source": [
    "def cropping(image):\n",
    "    h, w = image.shape\n",
    "    h = h//8*8\n",
    "    w = w//8*8\n",
    "    return image[0:h, 0:w]"
   ]
  },
  {
   "cell_type": "code",
   "execution_count": 7,
   "id": "6c4ac13c",
   "metadata": {},
   "outputs": [],
   "source": [
    "img = cropping(img)\n",
    "cv.imshow(\"Unsplash 8 Divisible\", img)\n",
    "cv.waitKey(0)\n",
    "cv.destroyAllWindows()"
   ]
  },
  {
   "cell_type": "code",
   "execution_count": 8,
   "id": "9639e7f3",
   "metadata": {},
   "outputs": [],
   "source": [
    "h, w= img.shape\n",
    "sub_height, sub_width = (h//4, w//2)"
   ]
  },
  {
   "cell_type": "code",
   "execution_count": 9,
   "id": "831850d0",
   "metadata": {},
   "outputs": [],
   "source": [
    "def divide_and_shuffle(input_image, sub_height, sub_width, shuffle=False):\n",
    "    parts_list = list()\n",
    "    for x in range(4):\n",
    "        parts_list.append(input_image[(x)*sub_height:(x+1)*sub_height, 0:sub_width])\n",
    "        parts_list.append(input_image[(x)*sub_height:(x+1)*sub_height, sub_width:])\n",
    "    \n",
    "    return (random.sample(parts_list, len(parts_list)) if shuffle == True else parts_list)\n",
    "\n",
    "\n",
    "parts_list = divide_and_shuffle(img, sub_height, sub_width, True)"
   ]
  },
  {
   "cell_type": "code",
   "execution_count": 10,
   "id": "6eb0ce17",
   "metadata": {},
   "outputs": [],
   "source": [
    "def combine_shuffled_image(parts_list):\n",
    "    for x in range(0, 8, 2):\n",
    "        img_new = cv.hconcat([parts_list[x], parts_list[x+1]])\n",
    "        parts_list.append(img_new)\n",
    "    \n",
    "    for x in range(8):\n",
    "        parts_list.pop(0)\n",
    "    \n",
    "    for x in range(0, 4, 2):\n",
    "        img_new = cv.vconcat([parts_list[x], parts_list[x+1]])\n",
    "        parts_list.append(img_new)\n",
    "        \n",
    "    for x in range(4):\n",
    "        parts_list.pop(0)\n",
    "        \n",
    "    return_img = cv.vconcat([parts_list[0], parts_list[1]])\n",
    "    parts_list.clear()\n",
    "    return return_img\n",
    "\n",
    "img_new = combine_shuffled_image(parts_list)\n",
    "\n",
    "cv.imshow(\"Unsplash Shuffled\", img_new)\n",
    "cv.waitKey(0)\n",
    "cv.destroyAllWindows()"
   ]
  },
  {
   "cell_type": "code",
   "execution_count": 11,
   "id": "071db4fe",
   "metadata": {},
   "outputs": [],
   "source": [
    "class Parts:\n",
    "    top_neighbour = None\n",
    "    bottom_neighbour = None\n",
    "    left_neighbour = None\n",
    "    right_neighbour = None\n",
    "\n",
    "    def set_neighbour(self, side, neighbour, percentage):\n",
    "        if side == \"T\":\n",
    "            self.top_neighbour = (neighbour, percentage)\n",
    "        if side == \"B\":\n",
    "            self.bottom_neighbour = (neighbour, percentage)\n",
    "        if side == \"L\":\n",
    "            self.left_neighbour = (neighbour, percentage)\n",
    "        if side == \"R\":\n",
    "            self.right_neighbour = (neighbour, percentage)\n",
    "\n",
    "    def __init__(self, top, bottom, left, right):\n",
    "        self.top = top\n",
    "        self.bottom = bottom\n",
    "        self.left = left\n",
    "        self.right = right\n",
    "        \n",
    "    def __str__(self):\n",
    "        return f'Top: {self.top},\\nBottom: {self.bottom},\\nLeft: {self.left},\\nRight: {self.right}\\n'"
   ]
  },
  {
   "cell_type": "code",
   "execution_count": 12,
   "id": "3f81b7ce",
   "metadata": {},
   "outputs": [],
   "source": [
    "subparts = divide_and_shuffle(img_new, sub_height, sub_width, False)\n",
    "visited = list()\n",
    "\n",
    "def part_details(subparts):\n",
    "    part_info = list()\n",
    "    for i in subparts:\n",
    "        temp = Parts(i[0:1, 0:], i[-1:, 0:], i[0:, 0:1], i[0:, -1:])\n",
    "        part_info.append(temp)\n",
    "        \n",
    "    return part_info"
   ]
  },
  {
   "cell_type": "code",
   "execution_count": 13,
   "id": "c3e0544a",
   "metadata": {
    "scrolled": false
   },
   "outputs": [],
   "source": [
    "def compare_edges(part_a, part_b):\n",
    "    count = 0\n",
    "    for a in range(length:=len(part_a)):\n",
    "        if part_a[a] == part_b[a]:\n",
    "            count += 1\n",
    "        else:\n",
    "            continue\n",
    "\n",
    "    return round((count / length) * 100, 2)\n",
    "\n",
    "#Debug\n",
    "# test = part_details(subparts)\n",
    "# print(compare_edges(test[0].left, test[1].right))"
   ]
  },
  {
   "cell_type": "code",
   "execution_count": 14,
   "id": "8d630e93",
   "metadata": {},
   "outputs": [],
   "source": [
    "#Horizontal neighbour check\n",
    "def compare_hor(part_a, subparts):\n",
    "    max_percentage = 0\n",
    "    max_match = [part_a, \"\"]\n",
    "    \n",
    "    #Matching right of part_a with left of all\n",
    "    curr_percentage = 0\n",
    "    for x in subparts:\n",
    "        curr_percentage = compare_edges(part_a.right, x.left)\n",
    "        if curr_percentage > max_percentage:\n",
    "            max_match[0] = x\n",
    "            max_match[1] = \"R\"\n",
    "            max_percentage = curr_percentage\n",
    "    #Matching left of part_a with right of all\n",
    "    curr_percentage = 0\n",
    "    for x in subparts:\n",
    "        curr_percentage = compare_edges(part_a.left, x.right)\n",
    "        if curr_percentage > max_percentage:\n",
    "            max_match[0] = x\n",
    "            max_match[1] = \"L\"\n",
    "            max_percentage = curr_percentage\n",
    "\n",
    "    if max_match[1] == \"L\":\n",
    "        part_a.set_neighbour(\"L\", max_match[0], max_percentage)\n",
    "    else:\n",
    "        part_a.set_neighbour(\"R\", max_match[0], max_percentage)\n",
    "\n",
    "    return\n"
   ]
  },
  {
   "cell_type": "code",
   "execution_count": 19,
   "id": "b85147d7",
   "metadata": {},
   "outputs": [],
   "source": [
    "import copy\n",
    "part_info = part_details(subparts)\n",
    "visited.clear()\n",
    "for x in range(len(part_info)):\n",
    "    if x in visited:\n",
    "        continue\n",
    "    else:\n",
    "        visited.append(x)\n",
    "        one = copy.deepcopy(part_info)\n",
    "        one.pop(x)\n",
    "        compare_hor(part_info[x], one)\n",
    "    "
   ]
  },
  {
   "cell_type": "code",
   "execution_count": 20,
   "id": "70b122e6",
   "metadata": {},
   "outputs": [
    {
     "name": "stdout",
     "output_type": "stream",
     "text": [
      "None\n",
      "(<__main__.Parts object at 0x7f8e34111900>, 99.57)\n",
      "(<__main__.Parts object at 0x7f8e34111270>, 99.14)\n",
      "None\n",
      "None\n",
      "(<__main__.Parts object at 0x7f8e341133a0>, 99.14)\n",
      "None\n",
      "(<__main__.Parts object at 0x7f8e34113f40>, 99.57)\n",
      "(<__main__.Parts object at 0x7f8e141e3f40>, 99.57)\n",
      "None\n",
      "None\n",
      "(<__main__.Parts object at 0x7f8e34112e60>, 98.71)\n",
      "(<__main__.Parts object at 0x7f8e34112fb0>, 99.57)\n",
      "None\n",
      "(<__main__.Parts object at 0x7f8e34112e30>, 98.71)\n",
      "None\n"
     ]
    }
   ],
   "source": [
    "for x in part_info:\n",
    "    if x.right_neighbour is not None:\n",
    "        "
   ]
  },
  {
   "cell_type": "code",
   "execution_count": null,
   "id": "82f17d8d",
   "metadata": {},
   "outputs": [],
   "source": [
    "img_gawd=cv.hconcat([p6,p0])\n",
    "cv.imshow(\"Pratyush\", img_gawd)\n",
    "cv.waitKey(0)\n",
    "cv.destroyAllWindows()\n",
    "        "
   ]
  },
  {
   "cell_type": "code",
   "execution_count": null,
   "id": "02df717d",
   "metadata": {},
   "outputs": [],
   "source": []
  }
 ],
 "metadata": {
  "kernelspec": {
   "display_name": "Python 3 (ipykernel)",
   "language": "python",
   "name": "python3"
  },
  "language_info": {
   "codemirror_mode": {
    "name": "ipython",
    "version": 3
   },
   "file_extension": ".py",
   "mimetype": "text/x-python",
   "name": "python",
   "nbconvert_exporter": "python",
   "pygments_lexer": "ipython3",
   "version": "3.10.10"
  }
 },
 "nbformat": 4,
 "nbformat_minor": 5
}
